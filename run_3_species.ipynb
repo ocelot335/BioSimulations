{
 "cells": [
  {
   "cell_type": "code",
   "execution_count": null,
   "metadata": {},
   "outputs": [],
   "source": [
    ".libPaths()"
   ]
  },
  {
   "cell_type": "code",
   "execution_count": null,
   "metadata": {},
   "outputs": [],
   "source": []
  },
  {
   "cell_type": "code",
   "execution_count": null,
   "metadata": {},
   "outputs": [],
   "source": [
    "require(MathBioSim)\n",
    "library(foreach)\n",
    "library(doParallel)\n",
    "\n",
    "linespec = function(from, to, count) {\n",
    "  return((0:(count - 1)) / count * (to - from) + from)\n",
    "}"
   ]
  },
  {
   "cell_type": "code",
   "execution_count": null,
   "metadata": {},
   "outputs": [],
   "source": [
    "file_name = \"NEW_TEST\""
   ]
  },
  {
   "cell_type": "code",
   "execution_count": null,
   "metadata": {},
   "outputs": [],
   "source": []
  },
  {
   "cell_type": "code",
   "execution_count": 3,
   "metadata": {},
   "outputs": [],
   "source": [
    "#gen_title = function(par, sm, sw) {\n",
    "#  return(sprintf(\"b = [%g, %g], d = [%g, %g], d` = [%g, %g, %g, %g], sm = [%g, %g], sw = [%g, %g, %g, %g]\",\n",
    "#                 par['b_1'], par['b_2'],\n",
    "#                 par['d_1'], par['d_2'],\n",
    "#                 par['dd_1_1'], par['dd_1_2'], par['dd_2_1'], par['dd_2_2'],\n",
    "#                 sm[1], sm[2],\n",
    "#                 sw[1, 1], sw[1, 2], sw[2, 1], sw[2, 2]\n",
    "#                 ));\n",
    "#}\n",
    "#\n",
    "#dem_file<-file(paste(file_name, \".dem\", sep = \"\"));\n",
    "#dem_data = sprintf(\"reset\\nset key top left\\nset term jpeg size 1920, 1080\\nset output '%s.jpg'\\n%sset grid\\nset title '%s'\\nplot '%s' u 1:2 w l title 'N1 simulation' lc 'red', %g w l lt 0 lc 'red' title 'N1 numeric', '%s' u 1:3 w l title 'N2 simulation' lc 'blue',  %g w l lt 0 lc 'blue' title 'N2 numeric', '%s' u 1:($2+$3) w l title 'sum simulation', %g w l lt 0 title 'sum numeric\", file_name, ifelse(FALSE, \"set yrange[-20: 250]\\n\", ''), gen_title(params, SM, SW), dat_file_path, N1_num, dat_file_path, N2_num, dat_file_path, N1_num + N2_num)\n",
    "#writeLines(dem_data, dem_file);\n",
    "#close(dem_file);"
   ]
  },
  {
   "cell_type": "code",
   "execution_count": 4,
   "metadata": {},
   "outputs": [],
   "source": [
    "area_length = 200\n",
    "cell_count_x = 100\n",
    "x_grid_points = 5000\n",
    "\n",
    "SPECIES_COUNT = 2;"
   ]
  },
  {
   "cell_type": "raw",
   "metadata": {},
   "source": [
    "do_simulation = function(file_name, params, coef, iterations, print_dis) {\n",
    "    print(paste(\"Start: \", file_name))\n",
    "    dat_file_path = paste(file_name, \"dat\", \"csv\", sep = \".\")\n",
    "    dis_file_path = paste(file_name, \"dis\", \"csv\", sep = \".\")\n",
    "\n",
    "    total_time = 0\n",
    "    file.create(dis_file_path)\n",
    "    dat_file<-file(dat_file_path);\n",
    "    writeLines(\"event;N1;N2;N3\", dat_file);\n",
    "    close(dat_file);\n",
    "\n",
    "    time_start<-Sys.time();\n",
    "\n",
    "    sim = new(poisson_1d_n_species, params);\n",
    "\n",
    "    write_data = function() {\n",
    "        pop = sim$total_population / area_length;\n",
    "        if (print_dis) {\n",
    "            for (j in 1:SPECIES_COUNT) {\n",
    "                cat(sim$GetAllCoordsForSpecies(j - 1), \"\\n\", file = dis_file_path, append = TRUE)\n",
    "            }    \n",
    "        }\n",
    "        cat(sim$events, pop[1], pop[2], pop[3], sep = \"\\t\", file = dat_file_path, append = TRUE, fill = TRUE);\n",
    "    }\n",
    "\n",
    "    time_finish<-Sys.time();\n",
    "    total_time = total_time + time_finish - time_start;\n",
    "\n",
    "    write_data()\n",
    "\n",
    "    time_start<-Sys.time();\n",
    "    for (k in 1:iterations){\n",
    "        sim$run_events(coef)\n",
    "        write_data()\n",
    "        i = i + 1;\n",
    "    }\n",
    "    time_finish<-Sys.time();\n",
    "    total_time = total_time + time_finish - time_start;\n",
    "    print(total_time);\n",
    "    \n",
    "    print(paste(\"Finish: \", file_name))\n",
    "}"
   ]
  },
  {
   "cell_type": "code",
   "execution_count": 6,
   "metadata": {},
   "outputs": [],
   "source": [
    "\n",
    "\n",
    "b = c(0.4, 0.4)\n",
    "d = c(0.2, 0.2)\n",
    "\n",
    "dd = matrix(\n",
    "    c(\n",
    "        0.001, 0.001,\n",
    "        0.001, 0.001\n",
    "    ),\n",
    "    nrow = SPECIES_COUNT,\n",
    "    ncol = SPECIES_COUNT\n",
    ")\n",
    "\n",
    "sigma_m = c(0.04, 0.1)\n",
    "sigma_w = matrix(\n",
    "    c(\n",
    "        0.04, 0.04,\n",
    "        0.04, 0.04\n",
    "    ),\n",
    "    nrow = SPECIES_COUNT,\n",
    "    ncol = SPECIES_COUNT\n",
    ")\n",
    "\n",
    "params<-list(\n",
    "    \"species_count\"=SPECIES_COUNT,\n",
    "    \"area_length_x\"=area_length,\n",
    "    \"cell_count_x\"=cell_count_x,\n",
    "    \"seed\"=42,\n",
    "    \"spline_precision\"=1e-6,\n",
    "    \"periodic\"=FALSE\n",
    ")\n",
    "  \n"
   ]
  },
  {
   "cell_type": "code",
   "execution_count": 7,
   "metadata": {
    "scrolled": true
   },
   "outputs": [],
   "source": [
    "for (i in 1:SPECIES_COUNT) {\n",
    "    params[paste(\"b\", i, sep = \"_\")] = b[i]\n",
    "    params[paste(\"d\", i, sep = \"_\")] = d[i]\n",
    "    \n",
    "    for (j in 1:(area_length * 100)) {\n",
    "        params[paste(\"initial_population\", \"x\", sep = \"_\")] = runif(1, 0, area_length)\n",
    "        params[\"initial_population_species\"] = i \n",
    "    }\n",
    "    \n",
    "    sigma = sigma_m[i]\n",
    "    length = sigma * 5\n",
    "    grid = linespec(0, length, x_grid_points)\n",
    "    \n",
    "    params[[paste(\"birth_kernel\", \"r\", i, sep = \"_\")]] = length\n",
    "    params[[paste(\"birth_kernel\", \"y\", i, sep = \"_\")]] = dnorm(grid, sd = sigma)\n",
    "    \n",
    "    for (j in 1:SPECIES_COUNT) {\n",
    "        params[paste(\"dd\", i, j, sep = \"_\")] = dd[i, j]\n",
    "        \n",
    "        sigma = sigma_w[i, j]\n",
    "        length = sigma * 5\n",
    "        grid = linespec(0, length, x_grid_points)\n",
    "        \n",
    "        params[[paste(\"death_kernel\", \"r\", i, j, sep = \"_\")]] = length\n",
    "        params[[paste(\"death_kernel\", \"y\", i, j, sep = \"_\")]] = dnorm(grid, sd = sigma)\n",
    "    }\n",
    "}"
   ]
  },
  {
   "cell_type": "raw",
   "metadata": {
    "collapsed": true,
    "jupyter": {
     "outputs_hidden": true
    }
   },
   "source": [
    "print(params)"
   ]
  },
  {
   "cell_type": "raw",
   "metadata": {},
   "source": [
    "for (x in seq(0.009, 0.01, by=0.001)) {\n",
    "    params[\"dd_1_2\"] = x\n",
    "    params[\"dd_2_1\"] = x\n",
    "    do_simulation(paste(\"TEST\", x, sep = \"_\"), params, 6 * 1024, 5 * 2 ** 10, FALSE)\n",
    "}"
   ]
  },
  {
   "cell_type": "code",
   "execution_count": null,
   "metadata": {},
   "outputs": [
    {
     "name": "stdout",
     "output_type": "stream",
     "text": [
      "[1] \"Start:  NEW_TEST\"\n"
     ]
    },
    {
     "data": {
      "text/html": [
       "TRUE"
      ],
      "text/latex": [
       "TRUE"
      ],
      "text/markdown": [
       "TRUE"
      ],
      "text/plain": [
       "[1] TRUE"
      ]
     },
     "metadata": {},
     "output_type": "display_data"
    }
   ],
   "source": [
    "d12 = 0.0010175\n",
    "\n",
    "params[\"dd_1_2\"] = d12\n",
    "params[\"dd_2_1\"] = d12\n",
    "\n",
    "print(paste(\"Start: \", file_name))\n",
    "dat_file_path = paste(file_name, \"dat\", \"csv\", sep = \".\")\n",
    "dis_file_path = paste(file_name, \"dis\", \"csv\", sep = \".\")\n",
    "\n",
    "total_time = 0\n",
    "file.create(dis_file_path)\n",
    "dat_file<-file(dat_file_path);\n",
    "writeLines(\"event;N1;N2\", dat_file);\n",
    "close(dat_file);\n",
    "\n",
    "time_start<-Sys.time();\n",
    "\n",
    "sim = new(poisson_1d_n_species, params);\n",
    "\n",
    "write_data = function() {\n",
    "    pop = sim$total_population / area_length;\n",
    "    for (j in 1:SPECIES_COUNT) {\n",
    "        cat(sim$GetAllCoordsForSpecies(j - 1), \"\\n\", file = dis_file_path, append = TRUE)\n",
    "    }\n",
    "    cat(sim$events, pop[1], pop[2], sep = \"\\t\", file = dat_file_path, append = TRUE, fill = TRUE);\n",
    "}\n",
    "\n",
    "coef = 6 * 2 ** 10\n",
    "\n",
    "\n",
    "time_start<-Sys.time();\n",
    "for (k in 1:(5 * (2 ** 10))){\n",
    "    sim$run_events(coef)\n",
    "    write_data()\n",
    "}\n",
    "time_finish<-Sys.time();\n",
    "total_time = total_time + time_finish - time_start;\n",
    "print(total_time);\n",
    "\n"
   ]
  },
  {
   "cell_type": "code",
   "execution_count": 24,
   "metadata": {},
   "outputs": [
    {
     "name": "stdout",
     "output_type": "stream",
     "text": [
      "Time difference of 2.889468 hours\n"
     ]
    }
   ],
   "source": [
    "time_start<-Sys.time();\n",
    "for (k in 1:(5 * (2 ** 10))){\n",
    "    sim$run_events(coef)\n",
    "    write_data()\n",
    "}\n",
    "time_finish<-Sys.time();\n",
    "total_time = total_time + time_finish - time_start;\n",
    "print(total_time);\n",
    "\n"
   ]
  },
  {
   "cell_type": "code",
   "execution_count": 10,
   "metadata": {},
   "outputs": [
    {
     "ename": "ERROR",
     "evalue": "Error in .getClassesFromCache(Class): объект 'poisson_1d_n_species' не найден\n",
     "output_type": "error",
     "traceback": [
      "Error in .getClassesFromCache(Class): объект 'poisson_1d_n_species' не найден\nTraceback:\n",
      "1. new(poisson_1d_n_species, params)",
      "2. getClass(Class, where = topenv(parent.frame()))",
      "3. getClassDef(Class, where)",
      "4. .getClassesFromCache(Class)"
     ]
    }
   ],
   "source": []
  },
  {
   "cell_type": "code",
   "execution_count": null,
   "metadata": {},
   "outputs": [],
   "source": []
  }
 ],
 "metadata": {
  "kernelspec": {
   "display_name": "R",
   "language": "R",
   "name": "ir"
  },
  "language_info": {
   "codemirror_mode": "r",
   "file_extension": ".r",
   "mimetype": "text/x-r-source",
   "name": "R",
   "pygments_lexer": "r",
   "version": "3.6.1"
  }
 },
 "nbformat": 4,
 "nbformat_minor": 4
}
